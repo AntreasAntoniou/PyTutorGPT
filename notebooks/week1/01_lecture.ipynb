{
    "cells": [
        {
            "cell_type": "markdown",
            "metadata": {},
            "source": [
                "# Understanding Programming Through Your World\n",
                "\n",
                "Welcome to your first programming lesson! Today we'll learn the basics through familiar real-world examples."
            ]
        },
        {
            "cell_type": "markdown",
            "metadata": {},
            "source": [
                "## What is Programming?\n",
                "\n",
                "### Real-World Analogy: Recipes in the Kitchen\n",
                "Imagine you're following a recipe to bake cookies:\n",
                "1. You have ingredients (data)\n",
                "2. You follow steps (instructions)\n",
                "3. You get a result (output)\n",
                "\n",
                "Programming is similar! Let's see a simple 'recipe' in Python:"
            ]
        },
        {
            "cell_type": "code",
            "execution_count": null,
            "metadata": {},
            "outputs": [],
            "source": [
                "# Recipe: Simple Greeting\n",
                "name = input(\"What's your name? \")  # Getting an ingredient\n",
                "greeting = \"Hello, \" + name  # Mixing ingredients\n",
                "print(greeting)  # Showing the result"
            ]
        },
        {
            "cell_type": "markdown",
            "metadata": {},
            "source": [
                "### Computer Basics\n",
                "- Computer: Like a super-fast kitchen\n",
                "- Python: Your cooking language\n",
                "- Program: Your recipe\n",
                "- Output: Your finished dish\n",
                "\n",
                "Let's write our first program!"
            ]
        },
        {
            "cell_type": "code",
            "execution_count": null,
            "metadata": {},
            "outputs": [],
            "source": [
                "# The traditional first program\n",
                "print(\"Hello, World!\")\n",
                "\n",
                "# Let's make it more interesting\n",
                "print(\"My first step into programming!\")\n",
                "print(\"I'm going to build amazing things!\")"
            ]
        },
        {
            "cell_type": "markdown",
            "metadata": {},
            "source": [
                "## Building Blocks\n",
                "\n",
                "### Variables: Your Storage Containers\n",
                "Think of variables as labeled boxes where you can store information."
            ]
        },
        {
            "cell_type": "code",
            "execution_count": null,
            "metadata": {},
            "outputs": [],
            "source": [
                "# Variables are like labeled containers\n",
                "age = 25\n",
                "name = \"Alex\"\n",
                "temperature = 98.6\n",
                "\n",
                "# You can use them later\n",
                "print(\"Name:\", name)\n",
                "print(\"Age:\", age)\n",
                "print(\"Temperature:\", temperature)"
            ]
        },
        {
            "cell_type": "markdown",
            "metadata": {},
            "source": [
                "### Basic Operations\n",
                "Just like you can do math with numbers, Python can perform calculations for you."
            ]
        },
        {
            "cell_type": "code",
            "execution_count": null,
            "metadata": {},
            "outputs": [],
            "source": [
                "# Math operations\n",
                "a = 5\n",
                "b = 3\n",
                "\n",
                "# Let's perform some calculations\n",
                "sum = a + b\n",
                "difference = a - b\n",
                "product = a * b\n",
                "division = a / b\n",
                "\n",
                "# Show our results\n",
                "print(\"Sum:\", sum)\n",
                "print(\"Difference:\", difference)\n",
                "print(\"Product:\", product)\n",
                "print(\"Division:\", division)"
            ]
        },
        {
            "cell_type": "markdown",
            "metadata": {},
            "source": [
                "### Try It Yourself!\n",
                "Now it's your turn. Try modifying the numbers above and see what happens.\n",
                "Can you create your own calculations?"
            ]
        }
    ],
    "metadata": {
        "kernelspec": {
            "display_name": "Python 3",
            "language": "python",
            "name": "python3"
        },
        "language_info": {
            "codemirror_mode": {
                "name": "ipython",
                "version": 3
            },
            "mimetype": "text/x-python",
            "name": "python",
            "version": "3.9.0"
        }
    },
    "nbformat": 4,
    "nbformat_minor": 4
}
